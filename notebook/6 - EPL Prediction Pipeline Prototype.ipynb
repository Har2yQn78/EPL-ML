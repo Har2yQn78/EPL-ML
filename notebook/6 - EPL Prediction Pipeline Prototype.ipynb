{
 "cells": [
  {
   "cell_type": "markdown",
   "id": "765d9262-f18a-4cf1-8a5d-6a2adb385f92",
   "metadata": {},
   "source": [
    "## Imports"
   ]
  },
  {
   "cell_type": "code",
   "execution_count": 1,
   "id": "1d082c95-a39f-474c-9be5-9890b758b073",
   "metadata": {},
   "outputs": [],
   "source": [
    "import pandas as pd\n",
    "import requests\n",
    "import io\n",
    "import os\n",
    "from pathlib import Path"
   ]
  },
  {
   "cell_type": "markdown",
   "id": "07cffd5d-4977-4c63-8821-587ec47e8b01",
   "metadata": {},
   "source": [
    "## 1. Data Acquisition"
   ]
  },
  {
   "cell_type": "markdown",
   "id": "acce0a45-5f33-4a1e-b93a-8c73a54191ca",
   "metadata": {},
   "source": [
    "Step 1.1: Define seasons and create data directory"
   ]
  },
  {
   "cell_type": "code",
   "execution_count": 2,
   "id": "5056814c-8719-44c7-b831-578739c0e44b",
   "metadata": {},
   "outputs": [
    {
     "name": "stdout",
     "output_type": "stream",
     "text": [
      "Seasons to download: ['1920', '2021', '2122', '2223', '2324', '2425', '2526']\n",
      "Data will be saved in: data/raw\n"
     ]
    }
   ],
   "source": [
    "seasons = [\"1920\", \"2021\", \"2122\", \"2223\", \"2324\", \"2425\"]\n",
    "current_season = \"2526\" # The season that just started\n",
    "all_seasons = seasons + [current_season]\n",
    "\n",
    "# Base URL for the Premier League data\n",
    "base_url = \"https://www.football-data.co.uk/mmz4281/{}/E0.csv\"\n",
    "\n",
    "# Create a directory to store our raw data\n",
    "# The `pathlib` library is great for handling file paths\n",
    "raw_data_dir = Path(\"data/raw\")\n",
    "raw_data_dir.mkdir(parents=True, exist_ok=True)\n",
    "\n",
    "print(f\"Seasons to download: {all_seasons}\")\n",
    "print(f\"Data will be saved in: {raw_data_dir}\")"
   ]
  },
  {
   "cell_type": "markdown",
   "id": "f430a0d5-42a0-4181-80fa-7825e410188d",
   "metadata": {},
   "source": [
    "Step 1.2: Download the data for each season"
   ]
  },
  {
   "cell_type": "code",
   "execution_count": 3,
   "id": "6400f2a8-74c2-4598-8e80-d297f814727f",
   "metadata": {},
   "outputs": [
    {
     "name": "stdout",
     "output_type": "stream",
     "text": [
      "File for season 1920 already exists. Skipping.\n",
      "File for season 2021 already exists. Skipping.\n",
      "File for season 2122 already exists. Skipping.\n",
      "File for season 2223 already exists. Skipping.\n",
      "File for season 2324 already exists. Skipping.\n",
      "File for season 2425 already exists. Skipping.\n",
      "File for season 2526 already exists. Skipping.\n",
      "\n",
      "Data download process complete.\n"
     ]
    }
   ],
   "source": [
    "for season in all_seasons:\n",
    "    url = base_url.format(season)\n",
    "    filepath = raw_data_dir / f\"E0_{season}.csv\"\n",
    "\n",
    "    if filepath.exists():\n",
    "        print(f\"File for season {season} already exists. Skipping.\")\n",
    "        continue\n",
    "\n",
    "    try:\n",
    "        print(f\"Downloading data for season {season} from {url}...\")\n",
    "        response = requests.get(url)\n",
    "        response.raise_for_status()  # This will raise an error for bad responses (4xx or 5xx)\n",
    "        \n",
    "        # Write the content to a local file\n",
    "        with open(filepath, 'wb') as f:\n",
    "            f.write(response.content)\n",
    "        print(f\"Successfully saved to {filepath}\")\n",
    "\n",
    "    except requests.exceptions.RequestException as e:\n",
    "        print(f\"Could not download data for season {season}. Error: {e}\")\n",
    "\n",
    "print(\"\\nData download process complete.\")"
   ]
  },
  {
   "cell_type": "markdown",
   "id": "7189fb4a-1ba5-4bbb-b318-53f760b7005d",
   "metadata": {},
   "source": [
    "Step 1.4: Load and combine all the downloaded data into a single DataFrame"
   ]
  },
  {
   "cell_type": "code",
   "execution_count": 4,
   "id": "6d8e4732-6d4b-43b4-b65f-15e2c9a84841",
   "metadata": {},
   "outputs": [
    {
     "name": "stdout",
     "output_type": "stream",
     "text": [
      "Combined DataFrame shape: (2290, 164)\n"
     ]
    },
    {
     "data": {
      "text/html": [
       "<div>\n",
       "<style scoped>\n",
       "    .dataframe tbody tr th:only-of-type {\n",
       "        vertical-align: middle;\n",
       "    }\n",
       "\n",
       "    .dataframe tbody tr th {\n",
       "        vertical-align: top;\n",
       "    }\n",
       "\n",
       "    .dataframe thead th {\n",
       "        text-align: right;\n",
       "    }\n",
       "</style>\n",
       "<table border=\"1\" class=\"dataframe\">\n",
       "  <thead>\n",
       "    <tr style=\"text-align: right;\">\n",
       "      <th></th>\n",
       "      <th>Div</th>\n",
       "      <th>Date</th>\n",
       "      <th>Time</th>\n",
       "      <th>HomeTeam</th>\n",
       "      <th>AwayTeam</th>\n",
       "      <th>FTHG</th>\n",
       "      <th>FTAG</th>\n",
       "      <th>FTR</th>\n",
       "      <th>HTHG</th>\n",
       "      <th>HTAG</th>\n",
       "      <th>...</th>\n",
       "      <th>BMGMCA</th>\n",
       "      <th>BVCH</th>\n",
       "      <th>BVCD</th>\n",
       "      <th>BVCA</th>\n",
       "      <th>CLCH</th>\n",
       "      <th>CLCD</th>\n",
       "      <th>CLCA</th>\n",
       "      <th>LBCH</th>\n",
       "      <th>LBCD</th>\n",
       "      <th>LBCA</th>\n",
       "    </tr>\n",
       "  </thead>\n",
       "  <tbody>\n",
       "    <tr>\n",
       "      <th>0</th>\n",
       "      <td>E0</td>\n",
       "      <td>09/08/2019</td>\n",
       "      <td>20:00</td>\n",
       "      <td>Liverpool</td>\n",
       "      <td>Norwich</td>\n",
       "      <td>4</td>\n",
       "      <td>1</td>\n",
       "      <td>H</td>\n",
       "      <td>4</td>\n",
       "      <td>0</td>\n",
       "      <td>...</td>\n",
       "      <td>NaN</td>\n",
       "      <td>NaN</td>\n",
       "      <td>NaN</td>\n",
       "      <td>NaN</td>\n",
       "      <td>NaN</td>\n",
       "      <td>NaN</td>\n",
       "      <td>NaN</td>\n",
       "      <td>NaN</td>\n",
       "      <td>NaN</td>\n",
       "      <td>NaN</td>\n",
       "    </tr>\n",
       "    <tr>\n",
       "      <th>1</th>\n",
       "      <td>E0</td>\n",
       "      <td>10/08/2019</td>\n",
       "      <td>12:30</td>\n",
       "      <td>West Ham</td>\n",
       "      <td>Man City</td>\n",
       "      <td>0</td>\n",
       "      <td>5</td>\n",
       "      <td>A</td>\n",
       "      <td>0</td>\n",
       "      <td>1</td>\n",
       "      <td>...</td>\n",
       "      <td>NaN</td>\n",
       "      <td>NaN</td>\n",
       "      <td>NaN</td>\n",
       "      <td>NaN</td>\n",
       "      <td>NaN</td>\n",
       "      <td>NaN</td>\n",
       "      <td>NaN</td>\n",
       "      <td>NaN</td>\n",
       "      <td>NaN</td>\n",
       "      <td>NaN</td>\n",
       "    </tr>\n",
       "    <tr>\n",
       "      <th>2</th>\n",
       "      <td>E0</td>\n",
       "      <td>10/08/2019</td>\n",
       "      <td>15:00</td>\n",
       "      <td>Bournemouth</td>\n",
       "      <td>Sheffield United</td>\n",
       "      <td>1</td>\n",
       "      <td>1</td>\n",
       "      <td>D</td>\n",
       "      <td>0</td>\n",
       "      <td>0</td>\n",
       "      <td>...</td>\n",
       "      <td>NaN</td>\n",
       "      <td>NaN</td>\n",
       "      <td>NaN</td>\n",
       "      <td>NaN</td>\n",
       "      <td>NaN</td>\n",
       "      <td>NaN</td>\n",
       "      <td>NaN</td>\n",
       "      <td>NaN</td>\n",
       "      <td>NaN</td>\n",
       "      <td>NaN</td>\n",
       "    </tr>\n",
       "    <tr>\n",
       "      <th>3</th>\n",
       "      <td>E0</td>\n",
       "      <td>10/08/2019</td>\n",
       "      <td>15:00</td>\n",
       "      <td>Burnley</td>\n",
       "      <td>Southampton</td>\n",
       "      <td>3</td>\n",
       "      <td>0</td>\n",
       "      <td>H</td>\n",
       "      <td>0</td>\n",
       "      <td>0</td>\n",
       "      <td>...</td>\n",
       "      <td>NaN</td>\n",
       "      <td>NaN</td>\n",
       "      <td>NaN</td>\n",
       "      <td>NaN</td>\n",
       "      <td>NaN</td>\n",
       "      <td>NaN</td>\n",
       "      <td>NaN</td>\n",
       "      <td>NaN</td>\n",
       "      <td>NaN</td>\n",
       "      <td>NaN</td>\n",
       "    </tr>\n",
       "    <tr>\n",
       "      <th>4</th>\n",
       "      <td>E0</td>\n",
       "      <td>10/08/2019</td>\n",
       "      <td>15:00</td>\n",
       "      <td>Crystal Palace</td>\n",
       "      <td>Everton</td>\n",
       "      <td>0</td>\n",
       "      <td>0</td>\n",
       "      <td>D</td>\n",
       "      <td>0</td>\n",
       "      <td>0</td>\n",
       "      <td>...</td>\n",
       "      <td>NaN</td>\n",
       "      <td>NaN</td>\n",
       "      <td>NaN</td>\n",
       "      <td>NaN</td>\n",
       "      <td>NaN</td>\n",
       "      <td>NaN</td>\n",
       "      <td>NaN</td>\n",
       "      <td>NaN</td>\n",
       "      <td>NaN</td>\n",
       "      <td>NaN</td>\n",
       "    </tr>\n",
       "  </tbody>\n",
       "</table>\n",
       "<p>5 rows × 164 columns</p>\n",
       "</div>"
      ],
      "text/plain": [
       "  Div        Date   Time        HomeTeam          AwayTeam  FTHG  FTAG FTR  \\\n",
       "0  E0  09/08/2019  20:00       Liverpool           Norwich     4     1   H   \n",
       "1  E0  10/08/2019  12:30        West Ham          Man City     0     5   A   \n",
       "2  E0  10/08/2019  15:00     Bournemouth  Sheffield United     1     1   D   \n",
       "3  E0  10/08/2019  15:00         Burnley       Southampton     3     0   H   \n",
       "4  E0  10/08/2019  15:00  Crystal Palace           Everton     0     0   D   \n",
       "\n",
       "   HTHG  HTAG  ... BMGMCA BVCH  BVCD  BVCA  CLCH  CLCD  CLCA  LBCH  LBCD  LBCA  \n",
       "0     4     0  ...    NaN  NaN   NaN   NaN   NaN   NaN   NaN   NaN   NaN   NaN  \n",
       "1     0     1  ...    NaN  NaN   NaN   NaN   NaN   NaN   NaN   NaN   NaN   NaN  \n",
       "2     0     0  ...    NaN  NaN   NaN   NaN   NaN   NaN   NaN   NaN   NaN   NaN  \n",
       "3     0     0  ...    NaN  NaN   NaN   NaN   NaN   NaN   NaN   NaN   NaN   NaN  \n",
       "4     0     0  ...    NaN  NaN   NaN   NaN   NaN   NaN   NaN   NaN   NaN   NaN  \n",
       "\n",
       "[5 rows x 164 columns]"
      ]
     },
     "execution_count": 4,
     "metadata": {},
     "output_type": "execute_result"
    }
   ],
   "source": [
    "all_games_df = pd.DataFrame()\n",
    "\n",
    "for season in all_seasons:\n",
    "    filepath = raw_data_dir / f\"E0_{season}.csv\"\n",
    "    if filepath.exists():\n",
    "        try:\n",
    "            season_df = pd.read_csv(filepath, encoding='latin1')\n",
    "            season_df['Season'] = season\n",
    "            all_games_df = pd.concat([all_games_df, season_df], ignore_index=True)\n",
    "        except Exception as e:\n",
    "            print(f\"Could not read file {filepath}. Error: {e}\")\n",
    "\n",
    "\n",
    "# Display the first few rows and the shape of the combined dataframe\n",
    "print(\"Combined DataFrame shape:\", all_games_df.shape)\n",
    "all_games_df.head()\n"
   ]
  },
  {
   "cell_type": "markdown",
   "id": "1778fd1d-f389-40bd-a41a-47c2bb99e33a",
   "metadata": {},
   "source": [
    "## 2. Data Processing & Feature Engineering"
   ]
  },
  {
   "cell_type": "markdown",
   "id": "cca56147-3409-4f47-8a46-5b0173257fae",
   "metadata": {},
   "source": [
    "Step 2.1: Select and rename the essential columns"
   ]
  },
  {
   "cell_type": "code",
   "execution_count": 5,
   "id": "b1bfdbcf-e636-4421-b2dd-5bb56ba7c315",
   "metadata": {},
   "outputs": [
    {
     "data": {
      "text/html": [
       "<div>\n",
       "<style scoped>\n",
       "    .dataframe tbody tr th:only-of-type {\n",
       "        vertical-align: middle;\n",
       "    }\n",
       "\n",
       "    .dataframe tbody tr th {\n",
       "        vertical-align: top;\n",
       "    }\n",
       "\n",
       "    .dataframe thead th {\n",
       "        text-align: right;\n",
       "    }\n",
       "</style>\n",
       "<table border=\"1\" class=\"dataframe\">\n",
       "  <thead>\n",
       "    <tr style=\"text-align: right;\">\n",
       "      <th></th>\n",
       "      <th>date</th>\n",
       "      <th>home_team</th>\n",
       "      <th>away_team</th>\n",
       "      <th>home_goals</th>\n",
       "      <th>away_goals</th>\n",
       "      <th>season</th>\n",
       "    </tr>\n",
       "  </thead>\n",
       "  <tbody>\n",
       "    <tr>\n",
       "      <th>0</th>\n",
       "      <td>09/08/2019</td>\n",
       "      <td>Liverpool</td>\n",
       "      <td>Norwich</td>\n",
       "      <td>4</td>\n",
       "      <td>1</td>\n",
       "      <td>1920</td>\n",
       "    </tr>\n",
       "    <tr>\n",
       "      <th>1</th>\n",
       "      <td>10/08/2019</td>\n",
       "      <td>West Ham</td>\n",
       "      <td>Man City</td>\n",
       "      <td>0</td>\n",
       "      <td>5</td>\n",
       "      <td>1920</td>\n",
       "    </tr>\n",
       "    <tr>\n",
       "      <th>2</th>\n",
       "      <td>10/08/2019</td>\n",
       "      <td>Bournemouth</td>\n",
       "      <td>Sheffield United</td>\n",
       "      <td>1</td>\n",
       "      <td>1</td>\n",
       "      <td>1920</td>\n",
       "    </tr>\n",
       "    <tr>\n",
       "      <th>3</th>\n",
       "      <td>10/08/2019</td>\n",
       "      <td>Burnley</td>\n",
       "      <td>Southampton</td>\n",
       "      <td>3</td>\n",
       "      <td>0</td>\n",
       "      <td>1920</td>\n",
       "    </tr>\n",
       "    <tr>\n",
       "      <th>4</th>\n",
       "      <td>10/08/2019</td>\n",
       "      <td>Crystal Palace</td>\n",
       "      <td>Everton</td>\n",
       "      <td>0</td>\n",
       "      <td>0</td>\n",
       "      <td>1920</td>\n",
       "    </tr>\n",
       "  </tbody>\n",
       "</table>\n",
       "</div>"
      ],
      "text/plain": [
       "         date       home_team         away_team  home_goals  away_goals season\n",
       "0  09/08/2019       Liverpool           Norwich           4           1   1920\n",
       "1  10/08/2019        West Ham          Man City           0           5   1920\n",
       "2  10/08/2019     Bournemouth  Sheffield United           1           1   1920\n",
       "3  10/08/2019         Burnley       Southampton           3           0   1920\n",
       "4  10/08/2019  Crystal Palace           Everton           0           0   1920"
      ]
     },
     "execution_count": 5,
     "metadata": {},
     "output_type": "execute_result"
    }
   ],
   "source": [
    "core_cols = ['Date', 'HomeTeam', 'AwayTeam', 'FTHG', 'FTAG', 'Season']\n",
    "football_data = all_games_df[core_cols].copy()\n",
    "\n",
    "football_data.rename(columns={\n",
    "    'Date': 'date',\n",
    "    'HomeTeam': 'home_team',\n",
    "    'AwayTeam': 'away_team',\n",
    "    'FTHG': 'home_goals',\n",
    "    'FTAG': 'away_goals',\n",
    "    'Season': 'season'\n",
    "}, inplace=True)\n",
    "\n",
    "football_data.head()\n"
   ]
  },
  {
   "cell_type": "markdown",
   "id": "1ed333a8-200a-4df9-83e9-210bf6726b63",
   "metadata": {},
   "source": [
    "Step 2.2: Data Cleaning and Type Conversion"
   ]
  },
  {
   "cell_type": "code",
   "execution_count": 6,
   "id": "50c062bb-827d-43ef-bfa6-ff8394ec3035",
   "metadata": {},
   "outputs": [
    {
     "name": "stdout",
     "output_type": "stream",
     "text": [
      "Data cleaning and type conversion complete.\n",
      "\n",
      "Cleaned DataFrame shape: (878, 6)\n",
      "<class 'pandas.core.frame.DataFrame'>\n",
      "RangeIndex: 878 entries, 0 to 877\n",
      "Data columns (total 6 columns):\n",
      " #   Column      Non-Null Count  Dtype         \n",
      "---  ------      --------------  -----         \n",
      " 0   date        878 non-null    datetime64[ns]\n",
      " 1   home_team   878 non-null    object        \n",
      " 2   away_team   878 non-null    object        \n",
      " 3   home_goals  878 non-null    int64         \n",
      " 4   away_goals  878 non-null    int64         \n",
      " 5   season      878 non-null    object        \n",
      "dtypes: datetime64[ns](1), int64(2), object(3)\n",
      "memory usage: 41.3+ KB\n"
     ]
    },
    {
     "data": {
      "text/html": [
       "<div>\n",
       "<style scoped>\n",
       "    .dataframe tbody tr th:only-of-type {\n",
       "        vertical-align: middle;\n",
       "    }\n",
       "\n",
       "    .dataframe tbody tr th {\n",
       "        vertical-align: top;\n",
       "    }\n",
       "\n",
       "    .dataframe thead th {\n",
       "        text-align: right;\n",
       "    }\n",
       "</style>\n",
       "<table border=\"1\" class=\"dataframe\">\n",
       "  <thead>\n",
       "    <tr style=\"text-align: right;\">\n",
       "      <th></th>\n",
       "      <th>date</th>\n",
       "      <th>home_team</th>\n",
       "      <th>away_team</th>\n",
       "      <th>home_goals</th>\n",
       "      <th>away_goals</th>\n",
       "      <th>season</th>\n",
       "    </tr>\n",
       "  </thead>\n",
       "  <tbody>\n",
       "    <tr>\n",
       "      <th>873</th>\n",
       "      <td>2025-12-04</td>\n",
       "      <td>Arsenal</td>\n",
       "      <td>Brentford</td>\n",
       "      <td>1</td>\n",
       "      <td>1</td>\n",
       "      <td>2425</td>\n",
       "    </tr>\n",
       "    <tr>\n",
       "      <th>874</th>\n",
       "      <td>2025-12-04</td>\n",
       "      <td>Southampton</td>\n",
       "      <td>Aston Villa</td>\n",
       "      <td>0</td>\n",
       "      <td>3</td>\n",
       "      <td>2425</td>\n",
       "    </tr>\n",
       "    <tr>\n",
       "      <th>875</th>\n",
       "      <td>2025-12-04</td>\n",
       "      <td>Nott'm Forest</td>\n",
       "      <td>Everton</td>\n",
       "      <td>0</td>\n",
       "      <td>1</td>\n",
       "      <td>2425</td>\n",
       "    </tr>\n",
       "    <tr>\n",
       "      <th>876</th>\n",
       "      <td>2025-12-04</td>\n",
       "      <td>Brighton</td>\n",
       "      <td>Leicester</td>\n",
       "      <td>2</td>\n",
       "      <td>2</td>\n",
       "      <td>2425</td>\n",
       "    </tr>\n",
       "    <tr>\n",
       "      <th>877</th>\n",
       "      <td>2025-12-04</td>\n",
       "      <td>Man City</td>\n",
       "      <td>Crystal Palace</td>\n",
       "      <td>5</td>\n",
       "      <td>2</td>\n",
       "      <td>2425</td>\n",
       "    </tr>\n",
       "  </tbody>\n",
       "</table>\n",
       "</div>"
      ],
      "text/plain": [
       "          date      home_team       away_team  home_goals  away_goals season\n",
       "873 2025-12-04        Arsenal       Brentford           1           1   2425\n",
       "874 2025-12-04    Southampton     Aston Villa           0           3   2425\n",
       "875 2025-12-04  Nott'm Forest         Everton           0           1   2425\n",
       "876 2025-12-04       Brighton       Leicester           2           2   2425\n",
       "877 2025-12-04       Man City  Crystal Palace           5           2   2425"
      ]
     },
     "execution_count": 6,
     "metadata": {},
     "output_type": "execute_result"
    }
   ],
   "source": [
    "football_data['date'] = pd.to_datetime(football_data['date'], errors='coerce')\n",
    "\n",
    "football_data.dropna(subset=['date', 'home_team', 'away_team', 'home_goals', 'away_goals'], inplace=True)\n",
    "\n",
    "# Convert goal columns to integers, as they should be whole numbers.\n",
    "football_data['home_goals'] = football_data['home_goals'].astype(int)\n",
    "football_data['away_goals'] = football_data['away_goals'].astype(int)\n",
    "\n",
    "football_data.sort_values(by='date', inplace=True)\n",
    "\n",
    "# Reset the index after sorting and dropping rows\n",
    "football_data.reset_index(drop=True, inplace=True)\n",
    "\n",
    "print(\"Data cleaning and type conversion complete.\")\n",
    "print(\"\\nCleaned DataFrame shape:\", football_data.shape)\n",
    "football_data.info()\n",
    "\n",
    "football_data.tail()"
   ]
  },
  {
   "cell_type": "markdown",
   "id": "2462d9a6-7493-4f18-809d-26a1427cfc87",
   "metadata": {},
   "source": [
    "Step 2.3: Filter out teams with insufficient data"
   ]
  },
  {
   "cell_type": "code",
   "execution_count": 7,
   "id": "4a980bcb-6563-49ae-946b-812eb49c051e",
   "metadata": {},
   "outputs": [
    {
     "name": "stdout",
     "output_type": "stream",
     "text": [
      "Removing teams with fewer than 19 home or 19 away games: ['Ipswich', 'Luton', 'Norwich', 'Watford', 'West Brom']\n",
      "Original shape: (878, 6)\n",
      "New filtered shape: (777, 6)\n"
     ]
    }
   ],
   "source": [
    "MIN_HOME_GAMES = 19 # One full season of home games\n",
    "MIN_AWAY_GAMES = 19 # One full season of away games\n",
    "\n",
    "# Count home and away games for each team\n",
    "home_games = football_data['home_team'].value_counts()\n",
    "away_games = football_data['away_team'].value_counts()\n",
    "\n",
    "# Identify teams that are below EITHER threshold\n",
    "teams_to_remove_home = home_games[home_games < MIN_HOME_GAMES].index\n",
    "teams_to_remove_away = away_games[away_games < MIN_AWAY_GAMES].index\n",
    "teams_to_remove = teams_to_remove_home.union(teams_to_remove_away)\n",
    "\n",
    "\n",
    "if len(teams_to_remove) > 0:\n",
    "    print(f\"Removing teams with fewer than {MIN_HOME_GAMES} home or {MIN_AWAY_GAMES} away games: {list(teams_to_remove)}\")\n",
    "    \n",
    "    # Filter the main dataframe and reset the index\n",
    "    football_data_filtered = football_data[\n",
    "        ~football_data['home_team'].isin(teams_to_remove) &\n",
    "        ~football_data['away_team'].isin(teams_to_remove)\n",
    "    ].copy().reset_index(drop=True)\n",
    "\n",
    "    print(f\"Original shape: {football_data.shape}\")\n",
    "    print(f\"New filtered shape: {football_data_filtered.shape}\")\n",
    "else:\n",
    "    print(\"No teams to remove. All teams meet the minimum game thresholds.\")\n",
    "    football_data_filtered = football_data.copy()"
   ]
  },
  {
   "cell_type": "markdown",
   "id": "609f11f1-f423-4368-ad48-1e78cd320b2e",
   "metadata": {},
   "source": [
    "Step 2.4: Detailed Data Quality Check"
   ]
  },
  {
   "cell_type": "code",
   "execution_count": 8,
   "id": "04aa9d96-f3f4-4afb-9f5f-e656eda0d4fe",
   "metadata": {},
   "outputs": [
    {
     "name": "stdout",
     "output_type": "stream",
     "text": [
      "Final number of teams for modeling: 22\n",
      "\n",
      "--- Data Quality Summary for Model Input ---\n",
      "                  Home Games  Away Games  Total Games\n",
      "Sheffield United          23          17           40\n",
      "Leeds                     22          20           42\n",
      "Nott'm Forest             24          23           47\n",
      "Burnley                   32          21           53\n",
      "Bournemouth               28          27           55\n",
      "Fulham                    27          29           56\n",
      "Brentford                 25          32           57\n",
      "Southampton               28          36           64\n",
      "Leicester                 30          39           69\n",
      "Crystal Palace            39          36           75\n",
      "Brighton                  38          38           76\n",
      "Newcastle                 38          42           80\n",
      "West Ham                  43          37           80\n",
      "Arsenal                   36          45           81\n",
      "Liverpool                 43          39           82\n",
      "Tottenham                 45          37           82\n",
      "Wolves                    45          38           83\n",
      "Aston Villa               36          48           84\n",
      "Man City                  40          44           84\n",
      "Chelsea                   42          44           86\n",
      "Man United                49          39           88\n",
      "Everton                   44          46           90\n",
      "------------------------------------------\n"
     ]
    }
   ],
   "source": [
    "final_teams = sorted(football_data_filtered['home_team'].unique())\n",
    "print(f\"Final number of teams for modeling: {len(final_teams)}\")\n",
    "\n",
    "final_home_games = football_data_filtered['home_team'].value_counts()\n",
    "final_away_games = football_data_filtered['away_team'].value_counts()\n",
    "final_total_games = final_home_games.add(final_away_games, fill_value=0)\n",
    "\n",
    "# Create a summary DataFrame\n",
    "debug_summary = pd.DataFrame({\n",
    "    'Home Games': final_home_games,\n",
    "    'Away Games': final_away_games,\n",
    "    'Total Games': final_total_games\n",
    "}).sort_values(by='Total Games', ascending=True)\n",
    "\n",
    "print(\"\\n--- Data Quality Summary for Model Input ---\")\n",
    "print(debug_summary)\n",
    "print(\"------------------------------------------\")"
   ]
  },
  {
   "cell_type": "markdown",
   "id": "771c6ea5-c2f1-4266-ab2a-15c3934be592",
   "metadata": {},
   "source": [
    "## 3. Modeling with Dixon-Coles"
   ]
  },
  {
   "cell_type": "markdown",
   "id": "847c8d78-67d6-4612-a0f0-1f2c18faee2e",
   "metadata": {},
   "source": [
    "Step 3.1: Import the model and prepare the data"
   ]
  },
  {
   "cell_type": "code",
   "execution_count": 9,
   "id": "3286fb5b-a9c5-4153-b798-40d308816432",
   "metadata": {},
   "outputs": [],
   "source": [
    "from penaltyblog.models import DixonColesGoalModel, dixon_coles_weights\n",
    "\n",
    "# We'll use a time decay factor. A common value is around 0.0018,\n",
    "# which gives a half-life of about one year. This means a game from\n",
    "# a year ago has half the weight of a game played today.\n",
    "epsilon = 0.0018\n",
    "\n",
    "# Generate the time-decay weights using the helper function on the FILTERED data\n",
    "weights = dixon_coles_weights(\n",
    "    football_data_filtered[\"date\"], \n",
    "    epsilon\n",
    ")"
   ]
  },
  {
   "cell_type": "markdown",
   "id": "5bd131fd-0d57-406e-91ff-9f48f3e6c1f0",
   "metadata": {},
   "source": [
    "Step 3.2: Instantiate and train the model"
   ]
  },
  {
   "cell_type": "code",
   "execution_count": 10,
   "id": "b46fa78e-2c8e-4e7d-8a2f-1d51df1ca566",
   "metadata": {},
   "outputs": [
    {
     "name": "stdout",
     "output_type": "stream",
     "text": [
      "--- PRE-TRAINING DEBUGGING INFO ---\n",
      "Teams being trained on (22): ['Arsenal' 'Aston Villa' 'Bournemouth' 'Brentford' 'Brighton' 'Burnley'\n",
      " 'Chelsea' 'Crystal Palace' 'Everton' 'Fulham' 'Leeds' 'Leicester'\n",
      " 'Liverpool' 'Man City' 'Man United' 'Newcastle' \"Nott'm Forest\"\n",
      " 'Sheffield United' 'Southampton' 'Tottenham' 'West Ham' 'Wolves']\n",
      "Number of matches: 777\n",
      "Number of weights: 777\n",
      "Initial parameters shape: (46,)\n",
      "-----------------------------------\n",
      "\n",
      "Training the Dixon-Coles model...\n",
      "Model training complete.\n"
     ]
    }
   ],
   "source": [
    "try:\n",
    "    dixon_coles_model = DixonColesGoalModel(\n",
    "        football_data_filtered[\"home_goals\"],\n",
    "        football_data_filtered[\"away_goals\"],\n",
    "        football_data_filtered[\"home_team\"],\n",
    "        football_data_filtered[\"away_team\"],\n",
    "        weights=weights\n",
    "    )\n",
    "\n",
    "    print(\"--- PRE-TRAINING DEBUGGING INFO ---\")\n",
    "    print(f\"Teams being trained on ({len(dixon_coles_model.teams)}): {dixon_coles_model.teams}\")\n",
    "    print(f\"Number of matches: {len(football_data_filtered)}\")\n",
    "    print(f\"Number of weights: {len(weights)}\")\n",
    "    print(f\"Initial parameters shape: {dixon_coles_model._params.shape}\")\n",
    "    print(\"-----------------------------------\")\n",
    "\n",
    "    print(\"\\nTraining the Dixon-Coles model...\")\n",
    "    solver_options = {\"method\": \"Powell\"}\n",
    "    dixon_coles_model.fit(minimizer_options=solver_options)\n",
    "    print(\"Model training complete.\")\n",
    "\n",
    "except ValueError as e:\n",
    "    print(\"\\n--- MODEL TRAINING FAILED ---\")\n",
    "    print(f\"Caught a ValueError: {e}\")\n",
    "    print(\"\\nThe debugging information above shows the exact data and parameters used.\")\n",
    "    print(\"Review the 'Data Quality Summary' in Step 2.4. If any team has a very low or imbalanced number of games, they might be the cause.\")\n",
    "    print(\"-----------------------------\")"
   ]
  },
  {
   "cell_type": "markdown",
   "id": "10b70741-4ed3-4abf-939a-d7cc5ef728a3",
   "metadata": {},
   "source": [
    "Step 3.3: Inspect the model parameters"
   ]
  },
  {
   "cell_type": "code",
   "execution_count": 11,
   "id": "89e9ae5b-46d6-459d-b924-e5f2fe74fd8a",
   "metadata": {},
   "outputs": [
    {
     "name": "stdout",
     "output_type": "stream",
     "text": [
      "\n",
      "Home Advantage: 0.223\n",
      "\n",
      "Team Ratings:\n",
      "                    Attack   Defence\n",
      "Man City          1.456473 -1.066170\n",
      "Liverpool         1.396911 -0.876492\n",
      "Arsenal           1.360198 -1.280639\n",
      "Chelsea           1.261200 -0.999642\n",
      "Newcastle         1.259078 -0.995571\n",
      "Tottenham         1.246017 -0.722864\n",
      "Brentford         1.199109 -0.807597\n",
      "Fulham            1.118520 -0.743281\n",
      "Nott'm Forest     1.036226 -0.807472\n",
      "Crystal Palace    1.019049 -0.762092\n",
      "Brighton          1.008306 -0.729369\n",
      "Man United        0.977087 -0.791281\n",
      "Aston Villa       0.970649 -0.933783\n",
      "Leicester         0.950925 -0.597197\n",
      "Bournemouth       0.911035 -0.842834\n",
      "Everton           0.903310 -1.052807\n",
      "Leeds             0.901577 -0.390467\n",
      "West Ham          0.762226 -0.633343\n",
      "Wolves            0.731343 -0.616766\n",
      "Burnley           0.660467 -0.481786\n",
      "Sheffield United  0.577854 -0.354630\n",
      "Southampton       0.292439 -0.442732\n"
     ]
    }
   ],
   "source": [
    "if 'dixon_coles_model' in locals() and dixon_coles_model._res.success:\n",
    "    n_teams = len(dixon_coles_model.teams)\n",
    "    params = dixon_coles_model._params\n",
    "    \n",
    "    attack_ratings = pd.Series(params[:n_teams], index=dixon_coles_model.teams, name=\"Attack\")\n",
    "    defence_ratings = pd.Series(params[n_teams:n_teams*2], index=dixon_coles_model.teams, name=\"Defence\")\n",
    "    home_advantage = params[n_teams*2]\n",
    "\n",
    "    print(f\"\\nHome Advantage: {home_advantage:.3f}\\n\")\n",
    "\n",
    "    ratings_df = pd.DataFrame({\n",
    "        'Attack': attack_ratings,\n",
    "        'Defence': defence_ratings\n",
    "    }).sort_values(by='Attack', ascending=False)\n",
    "\n",
    "    print(\"Team Ratings:\")\n",
    "    print(ratings_df)\n",
    "else:\n",
    "    print(\"\\nModel not trained successfully. Cannot display parameters.\")"
   ]
  },
  {
   "cell_type": "markdown",
   "id": "76bed3d6-cf3b-440d-8a40-5d8aa772e4af",
   "metadata": {},
   "source": [
    "## 4. Prediction & Visualization"
   ]
  },
  {
   "cell_type": "markdown",
   "id": "19c8320c-6ba2-4857-88f5-9b5833314a7c",
   "metadata": {},
   "source": [
    "Step 4.1: Make a prediction for a specific match"
   ]
  },
  {
   "cell_type": "code",
   "execution_count": 12,
   "id": "17a2bb66-b45f-47a3-b5b8-e782a6f8e7f7",
   "metadata": {},
   "outputs": [
    {
     "name": "stdout",
     "output_type": "stream",
     "text": [
      "Prediction for Man City vs Liverpool:\n",
      "\n",
      "Home Win: 56.70%\n",
      "Draw:       19.72%\n",
      "Away Win: 23.59%\n"
     ]
    }
   ],
   "source": [
    "home_team = \"Man City\"\n",
    "away_team = \"Liverpool\"\n",
    "\n",
    "prediction = dixon_coles_model.predict(home_team, away_team)\n",
    "\n",
    "print(f\"Prediction for {home_team} vs {away_team}:\\n\")\n",
    "print(f\"Home Win: {prediction.home_win:.2%}\")\n",
    "print(f\"Draw:       {prediction.draw:.2%}\")\n",
    "print(f\"Away Win: {prediction.away_win:.2%}\")"
   ]
  },
  {
   "cell_type": "code",
   "execution_count": 15,
   "id": "9d781aad-f05c-4ad1-9d76-fa3936da1275",
   "metadata": {},
   "outputs": [],
   "source": [
    "%matplotlib inline\n",
    "\n",
    "import matplotlib.pyplot as plt\n",
    "import seaborn as sns\n",
    "import pandas as pd"
   ]
  },
  {
   "cell_type": "markdown",
   "id": "5b073460-175a-4391-8eab-14f115853182",
   "metadata": {},
   "source": [
    "Step 4.2: Visualize the Correct Score probabilities"
   ]
  },
  {
   "cell_type": "code",
   "execution_count": 16,
   "id": "35f5bff3-75f4-4a7f-8b29-87e43f80b27e",
   "metadata": {},
   "outputs": [
    {
     "data": {
      "image/png": "[encoded data removed]",
      "text/plain": [
       "<Figure size 1000x700 with 2 Axes>"
      ]
     },
     "metadata": {},
     "output_type": "display_data"
    }
   ],
   "source": [
    "# Use the goal_matrix attribute instead of to_df()\n",
    "score_matrix = prediction.goal_matrix\n",
    "\n",
    "# If you need it as a DataFrame, convert it\n",
    "import pandas as pd\n",
    "score_matrix_df = pd.DataFrame(score_matrix)\n",
    "\n",
    "# Create the heatmap\n",
    "plt.figure(figsize=(10, 7))\n",
    "sns.heatmap(score_matrix_df, annot=True, fmt=\".2%\", cmap=\"viridis\")\n",
    "plt.xlabel(f\"{away_team} Goals\")\n",
    "plt.ylabel(f\"{home_team} Goals\")\n",
    "plt.title(f\"Correct Score Probabilities for {home_team} vs {away_team}\")\n",
    "plt.show()"
   ]
  },
  {
   "cell_type": "code",
   "execution_count": null,
   "id": "732e83d9-aa31-4b31-8805-eab03a421c37",
   "metadata": {},
   "outputs": [],
   "source": []
  }
 ],
 "metadata": {
  "kernelspec": {
   "display_name": "Python 3 (ipykernel)",
   "language": "python",
   "name": "python3"
  },
  "language_info": {
   "codemirror_mode": {
    "name": "ipython",
    "version": 3
   },
   "file_extension": ".py",
   "mimetype": "text/x-python",
   "name": "python",
   "nbconvert_exporter": "python",
   "pygments_lexer": "ipython3",
   "version": "3.11.13"
  }
 },
 "nbformat": 4,
 "nbformat_minor": 5
}
